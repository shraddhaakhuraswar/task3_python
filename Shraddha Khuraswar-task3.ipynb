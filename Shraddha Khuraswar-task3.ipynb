{
 "cells": [
  {
   "cell_type": "markdown",
   "id": "d275a85b-2d29-4827-9d0d-66ba825e8c65",
   "metadata": {},
   "source": [
    "# Examples of different datatypes"
   ]
  },
  {
   "cell_type": "markdown",
   "id": "26444200-a5d1-49a0-84be-b2877451885d",
   "metadata": {},
   "source": [
    "# 1Numeric type"
   ]
  },
  {
   "cell_type": "code",
   "execution_count": 5,
   "id": "643ae7de-b615-46f6-8fd2-914d7823913e",
   "metadata": {},
   "outputs": [
    {
     "name": "stdout",
     "output_type": "stream",
     "text": [
      "<class 'int'>\n"
     ]
    }
   ],
   "source": [
    "x = 5\n",
    "print(type(x))\n"
   ]
  },
  {
   "cell_type": "markdown",
   "id": "4b9c3a4b-875b-40ff-9d0c-9d00a11c4980",
   "metadata": {},
   "source": [
    "# 2Float"
   ]
  },
  {
   "cell_type": "code",
   "execution_count": 7,
   "id": "dad00c4a-be0e-468c-9f8e-5fabc0f0eb5a",
   "metadata": {},
   "outputs": [
    {
     "name": "stdout",
     "output_type": "stream",
     "text": [
      "<class 'float'>\n"
     ]
    }
   ],
   "source": [
    "pi = 3.14159\n",
    "print(type(pi))\n"
   ]
  },
  {
   "cell_type": "markdown",
   "id": "273b0762-a59e-4031-8413-c2bb364137e5",
   "metadata": {},
   "source": [
    "# 3String"
   ]
  },
  {
   "cell_type": "code",
   "execution_count": 9,
   "id": "0403161b-13ff-4354-bc93-7849089a93f9",
   "metadata": {},
   "outputs": [
    {
     "name": "stdout",
     "output_type": "stream",
     "text": [
      "<class 'str'>\n"
     ]
    }
   ],
   "source": [
    "greeting = \"Hello, World!\"\n",
    "print(type(greeting))  \n"
   ]
  },
  {
   "cell_type": "markdown",
   "id": "76448b5b-4db3-46fa-aafd-4aeaf5492de7",
   "metadata": {},
   "source": [
    "# 4. Boolean"
   ]
  },
  {
   "cell_type": "code",
   "execution_count": 11,
   "id": "70d756ee-9377-4655-97a5-e09ba936b91a",
   "metadata": {},
   "outputs": [
    {
     "name": "stdout",
     "output_type": "stream",
     "text": [
      "<class 'bool'>\n"
     ]
    }
   ],
   "source": [
    "is_student = True\n",
    "print(type(is_student)) \n"
   ]
  },
  {
   "cell_type": "markdown",
   "id": "29b3046b-bb79-4fd1-a146-d3de0d3813c7",
   "metadata": {},
   "source": [
    "# 5. NoneType"
   ]
  },
  {
   "cell_type": "code",
   "execution_count": 13,
   "id": "3fc22810-3b78-4dcf-9bc9-08c67516f5c2",
   "metadata": {},
   "outputs": [
    {
     "name": "stdout",
     "output_type": "stream",
     "text": [
      "<class 'NoneType'>\n"
     ]
    }
   ],
   "source": [
    "result = None\n",
    "print(type(result))\n"
   ]
  },
  {
   "cell_type": "markdown",
   "id": "5cbfe751-83a0-4aa7-a664-bd600c1b4164",
   "metadata": {},
   "source": [
    "# 6. List"
   ]
  },
  {
   "cell_type": "code",
   "execution_count": 24,
   "id": "42ca62c5-490f-4dfa-a273-bc1e0f77a383",
   "metadata": {},
   "outputs": [
    {
     "name": "stdout",
     "output_type": "stream",
     "text": [
      "<class 'list'>\n"
     ]
    }
   ],
   "source": [
    "numbers = [1, 2, 3, 4, 5]\n",
    "print(type(numbers)) \n"
   ]
  },
  {
   "cell_type": "markdown",
   "id": "1b90b148-7c28-41ac-b6f0-9e724da2a995",
   "metadata": {},
   "source": [
    "# 7. Tuple"
   ]
  },
  {
   "cell_type": "code",
   "execution_count": 27,
   "id": "94099d26-a069-4d95-974b-73dc8a7e21d3",
   "metadata": {},
   "outputs": [
    {
     "name": "stdout",
     "output_type": "stream",
     "text": [
      "<class 'tuple'>\n"
     ]
    }
   ],
   "source": [
    "coordinates = (10.0, 20.0)\n",
    "print(type(coordinates)) \n"
   ]
  },
  {
   "cell_type": "markdown",
   "id": "555a8c94-ffe1-42df-bd7e-f8c51e12fd2d",
   "metadata": {},
   "source": [
    "# 8. Dictionary"
   ]
  },
  {
   "cell_type": "code",
   "execution_count": 30,
   "id": "9544fb6b-9e26-45b4-97c0-687daae590b1",
   "metadata": {},
   "outputs": [
    {
     "name": "stdout",
     "output_type": "stream",
     "text": [
      "<class 'dict'>\n"
     ]
    }
   ],
   "source": [
    "person = {'name': 'Alice', 'age': 30}\n",
    "print(type(person)) \n"
   ]
  },
  {
   "cell_type": "markdown",
   "id": "969f4650-8534-4736-9d84-d8494dbf64a8",
   "metadata": {},
   "source": [
    "# 9. Set\n"
   ]
  },
  {
   "cell_type": "code",
   "execution_count": 33,
   "id": "4034d1cb-a067-4803-9ce9-bada476d85f1",
   "metadata": {},
   "outputs": [
    {
     "name": "stdout",
     "output_type": "stream",
     "text": [
      "<class 'set'>\n"
     ]
    }
   ],
   "source": [
    "unique_numbers = {1, 2, 3, 4, 5}\n",
    "print(type(unique_numbers)) \n"
   ]
  },
  {
   "cell_type": "markdown",
   "id": "19028e60-7284-45a5-b0fd-55e466d6a247",
   "metadata": {},
   "source": [
    "# 10. FrozenSet"
   ]
  },
  {
   "cell_type": "code",
   "execution_count": 35,
   "id": "3121cc54-8f8f-4de9-aef6-f1ebf22132c7",
   "metadata": {},
   "outputs": [
    {
     "name": "stdout",
     "output_type": "stream",
     "text": [
      "<class 'frozenset'>\n"
     ]
    }
   ],
   "source": [
    "immutable_set = frozenset([1, 2, 3])\n",
    "print(type(immutable_set))  \n"
   ]
  },
  {
   "cell_type": "markdown",
   "id": "5c7197ef-a31d-4808-b492-7368316376f7",
   "metadata": {},
   "source": [
    "# 11. Complex Number"
   ]
  },
  {
   "cell_type": "code",
   "execution_count": 39,
   "id": "18f0a2e1-2f14-400f-86ed-5c2fd272a9f8",
   "metadata": {},
   "outputs": [
    {
     "name": "stdout",
     "output_type": "stream",
     "text": [
      "<class 'complex'>\n"
     ]
    }
   ],
   "source": [
    "complex_number = 2 + 3j\n",
    "print(type(complex_number))\n"
   ]
  },
  {
   "cell_type": "markdown",
   "id": "0281393f-21f2-45b1-a50a-053de26f3e5d",
   "metadata": {},
   "source": [
    "# 12. Bytes"
   ]
  },
  {
   "cell_type": "code",
   "execution_count": 42,
   "id": "f84d5d50-d9fa-42cb-8e38-6e70bab0718a",
   "metadata": {},
   "outputs": [
    {
     "name": "stdout",
     "output_type": "stream",
     "text": [
      "<class 'bytes'>\n"
     ]
    }
   ],
   "source": [
    "byte_data = bytes([10, 20, 30])\n",
    "print(type(byte_data)) \n"
   ]
  },
  {
   "cell_type": "markdown",
   "id": "fdabde12-54c7-4eda-9f63-9f3a76e283b5",
   "metadata": {},
   "source": [
    "# 13. Bytearray"
   ]
  },
  {
   "cell_type": "code",
   "execution_count": 45,
   "id": "50ce35c8-35a9-4bc4-b7f0-43a0933e2c0f",
   "metadata": {},
   "outputs": [
    {
     "name": "stdout",
     "output_type": "stream",
     "text": [
      "<class 'bytearray'>\n"
     ]
    }
   ],
   "source": [
    "mutable_bytes = bytearray([10, 20, 30])\n",
    "print(type(mutable_bytes))  \n"
   ]
  },
  {
   "cell_type": "markdown",
   "id": "19331452-e834-42fd-9b73-33083371633e",
   "metadata": {},
   "source": [
    "# 14. MemoryView"
   ]
  },
  {
   "cell_type": "code",
   "execution_count": 48,
   "id": "96f228f9-8147-4c96-a257-815c157ac385",
   "metadata": {},
   "outputs": [
    {
     "name": "stdout",
     "output_type": "stream",
     "text": [
      "<class 'memoryview'>\n"
     ]
    }
   ],
   "source": [
    "mem_view = memoryview(bytes(5))\n",
    "print(type(mem_view)) \n"
   ]
  },
  {
   "cell_type": "markdown",
   "id": "88e2e0e2-b296-4b1d-9564-96528be7833c",
   "metadata": {},
   "source": [
    "# 15. Range"
   ]
  },
  {
   "cell_type": "code",
   "execution_count": 51,
   "id": "3461b222-6b00-42d4-9157-1cff735994cd",
   "metadata": {},
   "outputs": [
    {
     "name": "stdout",
     "output_type": "stream",
     "text": [
      "<class 'range'>\n"
     ]
    }
   ],
   "source": [
    "range_example = range(5)\n",
    "print(type(range_example)) \n"
   ]
  },
  {
   "cell_type": "markdown",
   "id": "761e6f16-1a49-41e5-943b-87582a7f7bbf",
   "metadata": {},
   "source": [
    "# 16. Byte String"
   ]
  },
  {
   "cell_type": "code",
   "execution_count": 54,
   "id": "61057bfd-fea8-49e9-ab7c-4ddf1ac45bfa",
   "metadata": {},
   "outputs": [
    {
     "name": "stdout",
     "output_type": "stream",
     "text": [
      "<class 'bytes'>\n"
     ]
    }
   ],
   "source": [
    "byte_string = b\"Hello\"\n",
    "print(type(byte_string)) \n"
   ]
  },
  {
   "cell_type": "markdown",
   "id": "99d49237-7157-4f0a-a96f-c76a56f3b129",
   "metadata": {},
   "source": [
    "# 17. Function"
   ]
  },
  {
   "cell_type": "code",
   "execution_count": 57,
   "id": "0ad8d189-d241-4cb5-803a-009a85d218bb",
   "metadata": {},
   "outputs": [
    {
     "name": "stdout",
     "output_type": "stream",
     "text": [
      "<class 'function'>\n"
     ]
    }
   ],
   "source": [
    "def add(x, y):\n",
    "    return x + y\n",
    "\n",
    "print(type(add))  \n"
   ]
  },
  {
   "cell_type": "markdown",
   "id": "67ebfa21-4cb2-43f4-b430-1b4f5e734ff5",
   "metadata": {},
   "source": [
    "# 18. Lambda Function"
   ]
  },
  {
   "cell_type": "code",
   "execution_count": 60,
   "id": "88ce587b-efd6-4a7a-bbbf-562869733937",
   "metadata": {},
   "outputs": [
    {
     "name": "stdout",
     "output_type": "stream",
     "text": [
      "<class 'function'>\n"
     ]
    }
   ],
   "source": [
    "multiply = lambda x, y: x * y\n",
    "print(type(multiply))  \n"
   ]
  },
  {
   "cell_type": "markdown",
   "id": "4a9c6ec4-4c42-45e3-90eb-c21d205a7971",
   "metadata": {},
   "source": [
    "# 19. Iterator"
   ]
  },
  {
   "cell_type": "code",
   "execution_count": 63,
   "id": "212f343d-624c-47eb-91c3-730c73b7c550",
   "metadata": {},
   "outputs": [
    {
     "name": "stdout",
     "output_type": "stream",
     "text": [
      "<class 'list_iterator'>\n"
     ]
    }
   ],
   "source": [
    "iterator_example = iter([1, 2, 3])\n",
    "print(type(iterator_example))  \n"
   ]
  },
  {
   "cell_type": "markdown",
   "id": "fcbbcd5a-2e25-4b09-a6b5-98d628d80763",
   "metadata": {},
   "source": [
    "# 20. Slice"
   ]
  },
  {
   "cell_type": "code",
   "execution_count": 66,
   "id": "cd8a99bb-2034-48ac-9db6-d6283ed425a4",
   "metadata": {},
   "outputs": [
    {
     "name": "stdout",
     "output_type": "stream",
     "text": [
      "<class 'slice'>\n"
     ]
    }
   ],
   "source": [
    "slice_example = slice(1, 5, 2)\n",
    "print(type(slice_example))  \n"
   ]
  },
  {
   "cell_type": "markdown",
   "id": "2cda56dd-970a-40f5-9b1b-c5ed686f7751",
   "metadata": {},
   "source": [
    "# 8 different examples of tuples"
   ]
  },
  {
   "cell_type": "markdown",
   "id": "de9b6c7f-c4ab-414b-903e-a45fe49cca26",
   "metadata": {},
   "source": [
    "# 1. Tuple with Strings"
   ]
  },
  {
   "cell_type": "code",
   "execution_count": 76,
   "id": "bad5acad-ef57-4aad-bad2-b8dc1d1bd3e2",
   "metadata": {},
   "outputs": [
    {
     "name": "stdout",
     "output_type": "stream",
     "text": [
      "<class 'tuple'>\n"
     ]
    }
   ],
   "source": [
    "string_tuple=(\"apple\",\"banana\",\"cherry\")\n",
    "print(type(string_tuple))"
   ]
  },
  {
   "cell_type": "markdown",
   "id": "dd9c11e8-88da-4055-99db-ee58115dfdee",
   "metadata": {},
   "source": [
    "# 2. Tuple with Floating-Point Numbers"
   ]
  },
  {
   "cell_type": "markdown",
   "id": "fbd23bf8-256e-46d8-9eb3-be358b7e2ed8",
   "metadata": {},
   "source": [
    "float_tuple=(1.1,2.2,3.3)\n",
    "print(type(float_tuple))"
   ]
  },
  {
   "cell_type": "markdown",
   "id": "8556c8e2-7bc4-4ee5-96fb-b0bb244740e7",
   "metadata": {},
   "source": [
    "# 3. Tuple with Boolean Values"
   ]
  },
  {
   "cell_type": "code",
   "execution_count": 92,
   "id": "6806b26c-7e12-4858-8577-dce7647769ad",
   "metadata": {},
   "outputs": [
    {
     "name": "stdout",
     "output_type": "stream",
     "text": [
      "<class 'tuple'>\n"
     ]
    }
   ],
   "source": [
    "bool_tuple = (True, False, True)\n",
    "print(type(bool_tuple)) \n"
   ]
  },
  {
   "cell_type": "markdown",
   "id": "bec41a5d-b6fd-46bd-b118-42dfd4b601f9",
   "metadata": {},
   "source": [
    "# 4. Tuple with a Mix of Strings and Numbers"
   ]
  },
  {
   "cell_type": "code",
   "execution_count": 99,
   "id": "24639d40-0861-490b-89da-922948b3c2b2",
   "metadata": {},
   "outputs": [
    {
     "name": "stdout",
     "output_type": "stream",
     "text": [
      "<class 'tuple'>\n"
     ]
    }
   ],
   "source": [
    "mixed_tuple=(\"python\",3.8,\"version\")\n",
    "print(type(mixed_tuple))"
   ]
  },
  {
   "cell_type": "markdown",
   "id": "434c6444-3199-43c9-a653-448fac636341",
   "metadata": {},
   "source": [
    "# 5. Tuple Containing Another Tuple"
   ]
  },
  {
   "cell_type": "code",
   "execution_count": 102,
   "id": "7c77f550-33ee-47eb-98a6-7c86a46e05c1",
   "metadata": {},
   "outputs": [
    {
     "name": "stdout",
     "output_type": "stream",
     "text": [
      "<class 'tuple'>\n"
     ]
    }
   ],
   "source": [
    "tuple_within_tuple = (1, 2, (3, 4, 5))\n",
    "print(type(tuple_within_tuple)) \n"
   ]
  },
  {
   "cell_type": "markdown",
   "id": "7042f13b-b823-448c-88b8-7cdbc2a5c994",
   "metadata": {},
   "source": [
    "# 6. Tuple with Dictionary"
   ]
  },
  {
   "cell_type": "code",
   "execution_count": 104,
   "id": "893ac816-3244-4132-9625-e2526ad579ff",
   "metadata": {},
   "outputs": [
    {
     "name": "stdout",
     "output_type": "stream",
     "text": [
      "<class 'tuple'>\n"
     ]
    }
   ],
   "source": [
    "dict_tuple = ({\"name\": \"Alice\", \"age\": 25}, {\"name\": \"Bob\", \"age\": 30})\n",
    "print(type(dict_tuple))\n"
   ]
  },
  {
   "cell_type": "markdown",
   "id": "95cf527b-3882-46d3-ab24-8924844a257c",
   "metadata": {},
   "source": [
    "# 7. Tuple with Different Types of Containers"
   ]
  },
  {
   "cell_type": "code",
   "execution_count": 108,
   "id": "29c457c9-1fab-4fa8-b765-5d4f1923d249",
   "metadata": {},
   "outputs": [
    {
     "name": "stdout",
     "output_type": "stream",
     "text": [
      "<class 'tuple'>\n"
     ]
    }
   ],
   "source": [
    "container_tuple = ([1, 2], {3, 4}, {\"a\": 5})\n",
    "print(type(container_tuple))  \n"
   ]
  },
  {
   "cell_type": "markdown",
   "id": "ac5c2c44-a571-4408-8ba2-9bf58f7fc067",
   "metadata": {},
   "source": [
    "# 8. Tuple with Functions\n"
   ]
  },
  {
   "cell_type": "code",
   "execution_count": 112,
   "id": "46fc1cc6-7776-40bf-879b-2037c619490f",
   "metadata": {},
   "outputs": [
    {
     "name": "stdout",
     "output_type": "stream",
     "text": [
      "<class 'tuple'>\n"
     ]
    }
   ],
   "source": [
    "def func1():\n",
    "    return \"Hello\"\n",
    "\n",
    "def func2():\n",
    "    return \"World\"\n",
    "\n",
    "function_tuple = (func1, func2)\n",
    "print(type(function_tuple))  \n"
   ]
  },
  {
   "cell_type": "code",
   "execution_count": null,
   "id": "26c02853-4892-4083-abe8-a162ee353d58",
   "metadata": {},
   "outputs": [],
   "source": []
  }
 ],
 "metadata": {
  "kernelspec": {
   "display_name": "Python 3 (ipykernel)",
   "language": "python",
   "name": "python3"
  },
  "language_info": {
   "codemirror_mode": {
    "name": "ipython",
    "version": 3
   },
   "file_extension": ".py",
   "mimetype": "text/x-python",
   "name": "python",
   "nbconvert_exporter": "python",
   "pygments_lexer": "ipython3",
   "version": "3.12.4"
  }
 },
 "nbformat": 4,
 "nbformat_minor": 5
}
