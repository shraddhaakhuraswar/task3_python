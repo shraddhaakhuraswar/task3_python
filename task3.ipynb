{
 "cells": [
  {
   "cell_type": "markdown",
   "id": "f18addb3-0bc3-4a10-9759-710e70c6b947",
   "metadata": {},
   "source": [
    "# 1. Create a list of fruits"
   ]
  },
  {
   "cell_type": "code",
   "execution_count": 2,
   "id": "c6932cdb-0bd2-4e14-93d5-b40f703b6168",
   "metadata": {},
   "outputs": [],
   "source": [
    "fruits = [\"Apple\", \"Banana\", \"Cherry\", \"Date\"]"
   ]
  },
  {
   "cell_type": "code",
   "execution_count": 4,
   "id": "2bf808d1-c3f7-4cb4-9639-d6b9941e3f3b",
   "metadata": {},
   "outputs": [
    {
     "name": "stdout",
     "output_type": "stream",
     "text": [
      "Original Fruits List: ['Apple', 'Banana', 'Cherry', 'Date']\n"
     ]
    }
   ],
   "source": [
    "print(\"Original Fruits List:\", fruits)\n"
   ]
  },
  {
   "cell_type": "markdown",
   "id": "f6748f33-8a41-4445-807e-8e9f1bf74062",
   "metadata": {},
   "source": [
    "# 2. Append a new fruit to the list"
   ]
  },
  {
   "cell_type": "code",
   "execution_count": 8,
   "id": "250cb5c9-744d-46b4-a769-dfdafb7d4376",
   "metadata": {},
   "outputs": [],
   "source": [
    "fruits.append(\"Elderberry\")"
   ]
  },
  {
   "cell_type": "code",
   "execution_count": 10,
   "id": "42230ae5-c9fe-47ae-b332-777a9bde6395",
   "metadata": {},
   "outputs": [
    {
     "name": "stdout",
     "output_type": "stream",
     "text": [
      "After append('Elderberry'): ['Apple', 'Banana', 'Cherry', 'Date', 'Elderberry']\n"
     ]
    }
   ],
   "source": [
    "print(\"After append('Elderberry'):\", fruits)"
   ]
  },
  {
   "cell_type": "markdown",
   "id": "5786ec84-f0f0-4233-a69c-278b1895519f",
   "metadata": {},
   "source": [
    "# 3. Remove a fruit from the list"
   ]
  },
  {
   "cell_type": "code",
   "execution_count": 13,
   "id": "7ac7020d-be21-4327-912a-12b369a5c583",
   "metadata": {},
   "outputs": [],
   "source": [
    "fruits.remove(\"Banana\")"
   ]
  },
  {
   "cell_type": "code",
   "execution_count": 15,
   "id": "e9db60a3-1f03-437d-854b-b25aaac3db8e",
   "metadata": {},
   "outputs": [
    {
     "name": "stdout",
     "output_type": "stream",
     "text": [
      "After remove('Banana'): ['Apple', 'Cherry', 'Date', 'Elderberry']\n"
     ]
    }
   ],
   "source": [
    "print(\"After remove('Banana'):\", fruits)"
   ]
  },
  {
   "cell_type": "markdown",
   "id": "51947bc5-a2c2-459d-bd7e-ea2b0a393703",
   "metadata": {},
   "source": [
    "# 4. Pop the last fruit from the list\n"
   ]
  },
  {
   "cell_type": "code",
   "execution_count": 18,
   "id": "4ea3b190-ab53-44ea-9d0e-058866f64c29",
   "metadata": {},
   "outputs": [
    {
     "name": "stdout",
     "output_type": "stream",
     "text": [
      "Popped fruit: Elderberry\n",
      "After pop(): ['Apple', 'Cherry', 'Date']\n"
     ]
    }
   ],
   "source": [
    "popped_fruit = fruits.pop()\n",
    "print(\"Popped fruit:\", popped_fruit)\n",
    "print(\"After pop():\", fruits)"
   ]
  },
  {
   "cell_type": "markdown",
   "id": "c637c99f-5307-45bf-a88b-2676519212f8",
   "metadata": {},
   "source": [
    "# 5. Sort and reverse the list of fruits"
   ]
  },
  {
   "cell_type": "code",
   "execution_count": 27,
   "id": "9f7d845a-c52c-423e-820d-78153278d881",
   "metadata": {},
   "outputs": [
    {
     "name": "stdout",
     "output_type": "stream",
     "text": [
      "Sorted Fruits List: ['Apple', 'Cherry']\n",
      "Reversed Fruits List: ['Cherry', 'Apple']\n"
     ]
    }
   ],
   "source": [
    "fruits.sort()\n",
    "print(\"Sorted Fruits List:\", fruits)\n",
    "fruits.reverse()\n",
    "print(\"Reversed Fruits List:\", fruits)"
   ]
  },
  {
   "cell_type": "markdown",
   "id": "7d98912a-a46e-4cd6-9365-05bc5eb46a14",
   "metadata": {},
   "source": [
    "# 6. Slicing a list to get the first two fruits"
   ]
  },
  {
   "cell_type": "code",
   "execution_count": 30,
   "id": "9809f567-e267-4790-b222-1cb29caf4e66",
   "metadata": {},
   "outputs": [
    {
     "name": "stdout",
     "output_type": "stream",
     "text": [
      "First two fruits (slice [:2]): ['Cherry', 'Apple']\n"
     ]
    }
   ],
   "source": [
    "first_two_fruits = fruits[:2]\n",
    "print(\"First two fruits (slice [:2]):\", first_two_fruits)"
   ]
  },
  {
   "cell_type": "markdown",
   "id": "2df11671-519d-4015-b163-55fa09a2fc32",
   "metadata": {},
   "source": [
    "# 7. Indexing to find the position of 'Cherry'"
   ]
  },
  {
   "cell_type": "code",
   "execution_count": 33,
   "id": "57af1c6c-d000-4a27-a5df-8a772bb190a1",
   "metadata": {},
   "outputs": [
    {
     "name": "stdout",
     "output_type": "stream",
     "text": [
      "Index of 'Cherry': 0\n"
     ]
    }
   ],
   "source": [
    "index_of_cherry = fruits.index(\"Cherry\")\n",
    "print(\"Index of 'Cherry':\", index_of_cherry)"
   ]
  },
  {
   "cell_type": "markdown",
   "id": "03d1c930-874c-45f3-9107-da4dbccb3334",
   "metadata": {},
   "source": [
    "# 8. Count occurrences of 'Apple' in the list"
   ]
  },
  {
   "cell_type": "code",
   "execution_count": 37,
   "id": "00eff8e0-bfb5-4636-9c9b-66bd2a0bf499",
   "metadata": {},
   "outputs": [
    {
     "name": "stdout",
     "output_type": "stream",
     "text": [
      "Count of 'Apple': 1\n"
     ]
    }
   ],
   "source": [
    "count_of_apple = fruits.count(\"Apple\")\n",
    "print(\"Count of 'Apple':\", count_of_apple)"
   ]
  },
  {
   "cell_type": "markdown",
   "id": "5b2316b4-6070-43be-96c6-bcb4c8a92476",
   "metadata": {},
   "source": [
    "# 9. Clear the fruits list"
   ]
  },
  {
   "cell_type": "code",
   "execution_count": 40,
   "id": "c9a9fc3c-c724-4617-a9de-ce2c3825e0d8",
   "metadata": {},
   "outputs": [
    {
     "name": "stdout",
     "output_type": "stream",
     "text": [
      "Cleared Fruits List: []\n"
     ]
    }
   ],
   "source": [
    "fruits.clear()\n",
    "print(\"Cleared Fruits List:\", fruits)"
   ]
  },
  {
   "cell_type": "markdown",
   "id": "9167f4f7-4646-4795-a675-98726c25f988",
   "metadata": {},
   "source": [
    "# 10. String operations with a shopping list"
   ]
  },
  {
   "cell_type": "code",
   "execution_count": 43,
   "id": "9740bf6b-bcad-4ee4-968a-a43cd5d7f63d",
   "metadata": {},
   "outputs": [
    {
     "name": "stdout",
     "output_type": "stream",
     "text": [
      "Original Shopping List: milk, eggs, bread, butter\n"
     ]
    }
   ],
   "source": [
    "shopping_list = \"milk, eggs, bread, butter\"\n",
    "print(\"Original Shopping List:\", shopping_list)"
   ]
  },
  {
   "cell_type": "markdown",
   "id": "710e4398-30b5-4b6a-9bdf-25cd36c8735d",
   "metadata": {},
   "source": [
    "# 11. Convert the shopping list to uppercase\n"
   ]
  },
  {
   "cell_type": "code",
   "execution_count": 48,
   "id": "58cf0770-27f3-493a-8604-e14fc1dee2bd",
   "metadata": {},
   "outputs": [
    {
     "name": "stdout",
     "output_type": "stream",
     "text": [
      "Uppercase Shopping List: MILK, EGGS, BREAD, BUTTER\n"
     ]
    }
   ],
   "source": [
    "uppercase_list = shopping_list.upper()\n",
    "print(\"Uppercase Shopping List:\", uppercase_list)"
   ]
  },
  {
   "cell_type": "markdown",
   "id": "1f91e4f5-d8f5-41a1-b89e-9082ddf026be",
   "metadata": {},
   "source": [
    "# 12. Find the position of 'bread' in the shopping list"
   ]
  },
  {
   "cell_type": "code",
   "execution_count": 51,
   "id": "2a875af6-6037-4b78-91c2-fd571da59922",
   "metadata": {},
   "outputs": [
    {
     "name": "stdout",
     "output_type": "stream",
     "text": [
      "Index of 'bread': 12\n"
     ]
    }
   ],
   "source": [
    "index_of_bread = shopping_list.find(\"bread\")\n",
    "print(\"Index of 'bread':\", index_of_bread)"
   ]
  },
  {
   "cell_type": "markdown",
   "id": "7466ca44-f397-42b0-997c-904560415358",
   "metadata": {},
   "source": [
    "# 13. Replace 'butter' with 'margarine' in the shopping list"
   ]
  },
  {
   "cell_type": "code",
   "execution_count": 54,
   "id": "34ffdeb3-0869-4eb5-87ea-ac5fb3e05b2c",
   "metadata": {},
   "outputs": [
    {
     "name": "stdout",
     "output_type": "stream",
     "text": [
      "Replaced Shopping List: milk, eggs, bread, margarine\n"
     ]
    }
   ],
   "source": [
    "new_shopping_list = shopping_list.replace(\"butter\", \"margarine\")\n",
    "print(\"Replaced Shopping List:\", new_shopping_list)"
   ]
  },
  {
   "cell_type": "markdown",
   "id": "e8853f57-4a2c-49b7-8ba1-8d73849be514",
   "metadata": {},
   "source": [
    "# 14. Split the shopping list into items"
   ]
  },
  {
   "cell_type": "code",
   "execution_count": 57,
   "id": "59546c71-5241-4173-ab21-3afb03f8d028",
   "metadata": {},
   "outputs": [
    {
     "name": "stdout",
     "output_type": "stream",
     "text": [
      "Split Shopping List: ['milk', 'eggs', 'bread', 'butter']\n"
     ]
    }
   ],
   "source": [
    "shopping_items = shopping_list.split(\", \")\n",
    "print(\"Split Shopping List:\", shopping_items)"
   ]
  },
  {
   "cell_type": "markdown",
   "id": "943d3dcd-e6af-4b1c-97e1-a2b2745bd531",
   "metadata": {},
   "source": [
    "# 15. Strip any whitespace from the shopping list"
   ]
  },
  {
   "cell_type": "code",
   "execution_count": 60,
   "id": "cd464ad5-2237-436b-908a-dcba2b4e246d",
   "metadata": {},
   "outputs": [
    {
     "name": "stdout",
     "output_type": "stream",
     "text": [
      "Stripped Shopping List: milk, eggs, bread, butter\n"
     ]
    }
   ],
   "source": [
    "stripped_list = shopping_list.strip()\n",
    "print(\"Stripped Shopping List:\", stripped_list)"
   ]
  },
  {
   "cell_type": "code",
   "execution_count": null,
   "id": "b315a678-c3d0-482d-8498-1f63deb3ee3a",
   "metadata": {},
   "outputs": [],
   "source": []
  }
 ],
 "metadata": {
  "kernelspec": {
   "display_name": "Python 3 (ipykernel)",
   "language": "python",
   "name": "python3"
  },
  "language_info": {
   "codemirror_mode": {
    "name": "ipython",
    "version": 3
   },
   "file_extension": ".py",
   "mimetype": "text/x-python",
   "name": "python",
   "nbconvert_exporter": "python",
   "pygments_lexer": "ipython3",
   "version": "3.12.4"
  }
 },
 "nbformat": 4,
 "nbformat_minor": 5
}
